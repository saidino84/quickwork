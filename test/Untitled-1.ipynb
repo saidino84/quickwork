{
 "cells": [
  {
   "cell_type": "code",
   "execution_count": 2,
   "metadata": {},
   "outputs": [
    {
     "name": "stdout",
     "output_type": "stream",
     "text": [
      "['PRECO', 'NOME', 'BARCODE', 'CODE']\n"
     ]
    }
   ],
   "source": [
    "def new_func(string:str):\n",
    "    return string.upper()\n",
    "\n",
    "lista=[\n",
    "    \"preco\",\"nome\",\"barcode\",\"code\"\n",
    "]\n",
    "d=map(lambda x:new_func(x),lista)\n",
    "print(list(d))"
   ]
  },
  {
   "attachments": {},
   "cell_type": "markdown",
   "metadata": {},
   "source": [
    "LER CODIGO DE BARRAS E NOME DO PRODUTO PRA FACILITAR NA BUSCA"
   ]
  },
  {
   "cell_type": "code",
   "execution_count": 2,
   "metadata": {},
   "outputs": [
    {
     "name": "stdout",
     "output_type": "stream",
     "text": [
      "645c5b55-34d6-4efa-b839-91b174209e13\n",
      "4df960cf-9e34-4869-a3ab-93df0ab979d5\n",
      "1c0ec8d1-a2db-479c-aa36-97932e25aea4\n",
      "e774e455-e67e-486b-bbc7-cd80a81756cd\n",
      "e911121d-1d28-4c31-9715-f39b07f68db0\n",
      "7a48b6a3-7741-4ba7-a3e9-0a01484a7fd8\n",
      "8d454a5c-304f-49a9-ad0c-f0b30ba784f9\n",
      "2b5cf3c4-cb33-46a0-b9bd-bc138e9693a7\n",
      "ccff98b4-b67b-47b7-9e5b-fca3cbf96462\n",
      "4c047ad9-a0fb-4604-aeef-d1e772462766\n",
      "9b4651d7-d42b-485f-ad26-62a6e48db393\n",
      "695cd26a-3676-4864-87fd-dbccf87fef48\n",
      "11b22013-07ca-49ad-8a4f-6079e205dbb8\n",
      "be0d70d1-69a0-4bee-a96f-2e35015ab20c\n",
      "59976124-fbe0-4ce2-86be-7bfcec07346b\n",
      "6ff8006f-3449-451c-a3e3-9f4b39471bab\n",
      "d8df56eb-1e07-4b57-8246-1c7de7f8ccb1\n",
      "516d8866-649e-44f9-9e12-8591edb531ae\n",
      "1191f8e1-e432-4dfc-9195-94a2da3352df\n",
      "652a021d-df3b-49b6-8d37-27f009e9405e\n"
     ]
    }
   ],
   "source": [
    "import uuid\n",
    "# later =new_func()\n",
    "for i in range(20):\n",
    "    print(uuid.uuid4())"
   ]
  }
 ],
 "metadata": {
  "kernelspec": {
   "display_name": ".venv",
   "language": "python",
   "name": "python3"
  },
  "language_info": {
   "codemirror_mode": {
    "name": "ipython",
    "version": 3
   },
   "file_extension": ".py",
   "mimetype": "text/x-python",
   "name": "python",
   "nbconvert_exporter": "python",
   "pygments_lexer": "ipython3",
   "version": "3.11.1"
  },
  "orig_nbformat": 4
 },
 "nbformat": 4,
 "nbformat_minor": 2
}
