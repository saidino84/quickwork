{
 "cells": [
  {
   "cell_type": "code",
   "execution_count": 2,
   "metadata": {},
   "outputs": [
    {
     "name": "stdout",
     "output_type": "stream",
     "text": [
      "['PRECO', 'NOME', 'BARCODEX', 'CODEX']\n"
     ]
    }
   ],
   "source": [
    "def new_func(string:str):\n",
    "    return string.upper()\n",
    "\n",
    "lista=[\n",
    "    \"preco\",\"nome\",\"barcodex\",\"codex\"\n",
    "]\n",
    "d=map(lambda x:new_func(x),lista)\n",
    "print(list(d))"
   ]
  },
  {
   "cell_type": "code",
   "execution_count": 10,
   "metadata": {},
   "outputs": [
    {
     "data": {
      "text/plain": [
       "True"
      ]
     },
     "execution_count": 10,
     "metadata": {},
     "output_type": "execute_result"
    }
   ],
   "source": [
    "check=\"Maria\".__contains__(\"ia\")\n",
    "check"
   ]
  },
  {
   "attachments": {},
   "cell_type": "markdown",
   "metadata": {},
   "source": [
    "LER CODIGO DE BARRAS E NOME DO PRODUTO PRA FACILITAR NA BUSCA"
   ]
  },
  {
   "cell_type": "code",
   "execution_count": 10,
   "metadata": {
    "tags": [
     "ttk"
    ]
   },
   "outputs": [
    {
     "name": "stdout",
     "output_type": "stream",
     "text": [
      "['JACARANDA MONAPO LDA\\n', 'VIP MONTEPUEZ\\n', 'HANDLING\\n', 'BUCHANI\\n', 'ADRIANO ARLINDO\\n', 'RCL-RAHI COMERCIAL\\n', 'DESSE CAMARA\\n', 'VIP WAREHOUSE CHAMANCULO\\n', 'SALLU TRADING\\n', 'PASTELARIA FLOR\\n', 'Niri Nkayi (Menteigas de amendoim)\\n', 'IOCOMAS FARM\\n', 'Higest MoÃ§ambique , Lda\\n', 'CANAS\\n', 'Dona Julia\\n', '']\n"
     ]
    }
   ],
   "source": [
    "import os\n",
    "\n",
    "users=[]\n",
    "with open('provicer.txt') as data:\n",
    "    for line in data:\n",
    "        users.append(data.readline().split('\\\\n')[0])\n",
    "        with open('out.txt' , 'a+') as out:\n",
    "            out.write(data.readline() )\n",
    "print(users)"
   ]
  },
  {
   "attachments": {},
   "cell_type": "markdown",
   "metadata": {},
   "source": [
    "#REGEX PRA FAZER BUSCA DE DADOS ARMAZENADOS EM UMA LISTA"
   ]
  },
  {
   "cell_type": "code",
   "execution_count": 21,
   "metadata": {},
   "outputs": [
    {
     "name": "stdout",
     "output_type": "stream",
     "text": [
      "A palavra 'nt' foi encontrada na frase: we lost ammount on august\n",
      "A palavra 'nt' foi encontrada na frase: email has failed to sent\n",
      "A palavra 'nt' foi encontrada na frase: we dont want to get back\n"
     ]
    }
   ],
   "source": [
    "import re\n",
    "messages=[\n",
    "    'they have much money to pay it',\n",
    "      'we lost ammount on august',\n",
    "      'email has failed to sent',\n",
    "      'we dont want to get back',\n",
    "      'they denny to be honnored'\n",
    "]\n",
    "def query_find_word_with_word(word,lista):\n",
    "    for message in lista:\n",
    "        found=re.search(word,message,re.IGNORECASE)\n",
    "        if found is not None:\n",
    "            print (\"A palavra '{}' foi encontrada na frase: {}\".format (found.group (), message))\n",
    "\n",
    "query_find_word_with_word('NT',messages)\n",
    " "
   ]
  },
  {
   "cell_type": "code",
   "execution_count": 37,
   "metadata": {},
   "outputs": [
    {
     "name": "stdout",
     "output_type": "stream",
     "text": [
      "VIP ARM. MUXARA\n",
      "\n",
      "JACARANDA MONAPO LDA\n",
      "\n",
      "AELIZ COMERCIAL\n",
      "\n",
      "TERRA MAR\n",
      "\n",
      "VIP MONTEPUEZ\n",
      "\n",
      "GOLDEN POWER REPRESENTACOES\n",
      "\n",
      "J.J.E COMERCIO\n",
      "\n",
      "HANDLING\n",
      "\n",
      "Titos Chichava\n",
      "\n",
      "INSELTEC SOLUTIONS\n",
      "\n",
      "BUCHANI\n",
      "\n",
      "Builders Warehouse\n",
      "\n",
      "Cha de Mangoma\n",
      "\n",
      "\"ADRIANO ARLINDO\"\n",
      "\n",
      "AGRO-SULAHA FARMS LDA\n",
      "\n",
      "MOZBIFE\n",
      "\n",
      "RCL-RAHI COMERCIAL\n",
      "\n",
      "Casa Das LoiÃ§as\n",
      "\n",
      "Momade Bica Comercial\n",
      "\n",
      "DESSE CAMARA\n",
      "\n",
      "SOCOAL\n",
      "\n",
      "Casa Das LoiÃ§as\n",
      "\n",
      "VIP WAREHOUSE CHAMANCULO\n",
      "\n",
      "OASIS MOÃ‡AMBIQUE, LDA\n",
      "\n",
      "GENNY SALGADOS\n",
      "\n",
      "SALLU TRADING\n",
      "\n",
      "LOGOS Industrias Lda\n",
      "\n",
      "DESSE CAMARA\n",
      "\n",
      "PASTELARIA FLOR\n",
      "\n",
      "VIP NACALA\n",
      "\n",
      "VIP NAMPULA\n",
      "\n",
      "Niri Nkayi (Menteigas de amendoim)\n",
      "\n",
      "Marin Trading\n",
      "\n",
      "UNIBASMA\n",
      "\n",
      "IOCOMAS FARM\n",
      "\n",
      "FAZENDA OPHENTANA\n",
      "\n",
      "Vip Maputo Armazem\n",
      "\n",
      "Higest MoÃ§ambique , Lda\n",
      "\n",
      "Jephta Kasusu Wayella\n",
      "\n",
      "NECIFA LDA\n",
      "\n",
      "CANAS\n",
      "\n",
      "NOVO HORIZONTES\n",
      "\n",
      "TROPIGALIA\n",
      "\n",
      "Dona Julia\n",
      "\n",
      "VIP FASHION\n",
      "\n",
      "Kratos Empire , Lda\n",
      "\n"
     ]
    }
   ],
   "source": [
    "_PATH='provicer.txt'\n",
    "import json\n",
    "# {\"providers\": [\"VIP ARMAZEM MUXARA\", \"VIP MONTEPUEZ\", \"MOZBIFE\", \"CANAS\", \"GENIFA\"]}\n",
    "providers={\n",
    "    \"providers\":[]}\n",
    "with open(_PATH) as stream:\n",
    "    for line in stream.readlines():\n",
    "        providers['providers'].append(line.replace('\\n',\" \").strip())\n",
    "        print(line)\n",
    "with open('file.json','w+') as output:\n",
    "    json.dump(providers,output,separators=[',',\":\"],indent=4)\n",
    "     \n",
    "    \n"
   ]
  },
  {
   "cell_type": "code",
   "execution_count": null,
   "metadata": {},
   "outputs": [],
   "source": [
    "import sqlite3\n",
    "\n",
    "janela = Tk()\n",
    "janela.title(\"CFB Cursos\")\n",
    "janela.geometry(\"600x300\")\n",
    "janela.configure(background=\"#dde\")\n",
    "\n",
    "# Criando a conexão com o banco de dados\n",
    "conexao = sqlite3.connect(\"banco.db\")\n",
    "# Criando o cursor para executar as operações no banco\n",
    "cursor = conexao.cursor()\n",
    "# Criando a tabela produtos se ela não existir\n",
    "cursor.execute(\"CREATE TABLE IF NOT EXISTS produtos (id integer, descricao text, preco real)\")\n",
    "\n",
    "# Criando uma treeview para exibir os dados da tabela\n",
    "tv_produtos = ttk.Treeview(janela, columns=(\"id\", \"descricao\", \"preco\"), show=\"headings\")\n",
    "# Configurando as colunas da treeview\n",
    "tv_produtos.column(\"id\", minwidth=0, width=50)\n",
    "tv_produtos.column(\"descricao\", minwidth=0, width=250)\n",
    "tv_produtos.column(\"preco\", minwidth=0, width=100)\n",
    "# Configurando os cabeçalhos das colunas\n",
    "tv_produtos.heading(\"id\", text=\"ID\")\n",
    "tv_produtos.heading(\"descricao\", text=\"DESCRIÇÃO\")\n",
    "tv_produtos.heading(\"preco\", text=\"PREÇO\")\n",
    "# Posicionando a treeview na janela\n",
    "tv_produtos.place(x=10, y=10)\n",
    "\n",
    "# Criando uma função para inserir dados na tabela e na treeview\n",
    "def inserir():\n",
    "    # Pegando os valores digitados nas entradas de texto\n",
    "    id = et_id.get()\n",
    "    descricao = et_descricao.get()\n",
    "    preco = et_preco.get()\n",
    "    # Inserindo os valores na tabela produtos\n",
    "    cursor.execute(\"INSERT INTO produtos VALUES (?, ?, ?)\", (id, descricao, preco))\n",
    "    # Salvando as alterações no banco\n",
    "    conexao.commit()\n",
    "    # Inserindo os valores na treeview\n",
    "    tv_produtos.insert(\"\", \"end\", values=(id, descricao, preco))\n",
    "\n",
    "# Criando uma função para atualizar os dados na tabela e na treeview\n",
    "def atualizar():\n",
    "    # Pegando o item selecionado na treeview\n",
    "    itemSelecionado = tv_produtos.selection()[0]\n",
    "    # Pegando os valores do item selecionado\n",
    "    item = tv_produtos.item(itemSelecionado, \"values\")\n",
    "    # Atualizando os valores na tabela produtos com os valores digitados nas entradas de texto\n",
    "    cursor.execute(\"UPDATE produtos SET id=?, descricao=?, preco=? WHERE id=?\", (et_id.get(), et_descricao.get(), et_preco.get(), item[0]))\n",
    "    # Salvando as alterações no banco\n",
    "    conexao.commit()\n",
    "    # Atualizando os valores na treeview com os valores digitados nas entradas de texto\n",
    "    tv_produtos.item(itemSelecionado, values=(et_id.get(), et_descricao.get(), et_preco.get()))\n",
    "\n",
    "# Criando uma função para deletar os dados na tabela e na treeview\n",
    "def deletar():\n",
    "    # Pegando o item selecionado na treeview\n",
    "    itemSelecionado = tv_produtos.selection()[0]\n",
    "    # Pegando os valores do item selecionado\n",
    "    item = tv_produtos.item(itemSelecionado, \"values\")\n",
    "    # Deletando os valores na tabela produtos com o id do item selecionado\n",
    "    cursor.execute(\"DELETE FROM produtos WHERE id=?\", (item[0],))\n",
    "    # Salvando as alterações no banco\n",
    "    conexao.commit()\n",
    "    # Deletando o item na treeview\n",
    "    tv_produtos.delete(itemSelecionado)\n",
    "\n",
    "# Criando uma função para mostrar os dados nas entradas de texto quando um item for selecionado na treeview\n",
    "def selecionar(event):\n",
    "    # Pegando o item selecionado na treeview\n",
    "    itemSelecionado = tv_produtos.selection()[0]\n",
    "    # Pegando os valores do item selecionado\n",
    "    item = tv_produtos.item(itemSelecionado, \"values\")\n",
    "    # Mostrando os valores nas entradas de texto\n",
    "    et_id.delete(0, END)\n",
    "    et_id.insert(0, item[0])\n",
    "    et_descricao.delete(0, END)\n",
    "    et_descricao.insert(0, item[1])\n",
    "    et_preco.delete(0, END)\n",
    "    et_preco.insert(0, item[2])\n",
    "\n",
    "# Criando as entradas de texto para digitar os dados\n",
    "et_id = Entry(janela)\n",
    "et_id.place(x=450, y=10)\n",
    "et_descricao = Entry(janela)\n",
    "et_descricao.place(x=450, y=60)\n",
    "et_preco = Entry(janela)\n",
    "et_preco.place(x=450, y=110)\n",
    "\n",
    "# Criando os botões para executar as funções\n",
    "bt_inserir = Button(janela, width=15, text=\"Inserir\", command=inserir)\n",
    "bt_inserir.place(x=450, y=160)\n",
    "bt_atualizar = Button(janela, width=15, text=\"Atualizar\", command=atualizar)\n",
    "bt_atualizar.place(x=450, y=190)\n",
    "bt_deletar = Button(janela, width=15, text=\"Deletar\", command=deletar)\n",
    "bt_deletar.place(x=450, y=220)\n",
    "\n",
    "# Adicionando um evento de clique duplo na treeview para chamar a função selecionar\n",
    "tv_produtos.bind(\"<Double-1>\", selecionar)\n",
    "\n",
    "# Preenchendo a treeview com os dados da tabela produtos\n",
    "cursor.execute(\"SELECT * FROM produtos\")\n",
    "for row in cursor.fetchall():\n",
    "    tv_produtos.insert(\"\", \"end\", values=row)\n",
    "\n",
    "janela.mainloop()\n",
    "\n"
   ]
  },
  {
   "cell_type": "code",
   "execution_count": 2,
   "metadata": {},
   "outputs": [
    {
     "name": "stdout",
     "output_type": "stream",
     "text": [
      "07278981-f7df-4e16-98a9-12ba7efa9845\n",
      "a941fc2a-e06b-4846-b568-855ca3e16249\n",
      "7bc14079-5836-49a4-8cd2-d9162e1c460c\n",
      "3f3eaa03-72e1-4edb-a19e-4315a7a7d193\n",
      "594bf681-3e23-4a86-84cb-b38ebcd1ac7c\n",
      "2b35bc24-059f-4f4c-8ea5-92aec16cf5e5\n",
      "b6d66587-710f-4930-98a3-defbedee0ac6\n",
      "5dd11c00-d66d-47fe-b489-1ae67b689eb5\n",
      "795fefd3-bef3-4c5f-a1d4-73a810e3d6ab\n",
      "d232f4dc-6a25-4b12-bb54-9147de0962bb\n",
      "20b09ff1-8ca2-472b-9599-b54ecd6397d6\n",
      "1136f6a6-7100-4268-b735-f44497661b01\n",
      "10eeabca-ded0-49f4-8365-3e0eb384a692\n",
      "e90907a3-778d-405e-85ef-a7cf63ae527c\n",
      "ae070126-0ce6-47ba-84ce-badb3980f375\n",
      "b54e057a-17dc-4c33-8272-893c94473458\n",
      "6dbf25e8-a91c-4f62-b5fe-76f28201651b\n",
      "edb8137a-8d79-4672-9908-a59314a5825e\n",
      "77220bee-a84e-4327-aad1-698a049f95c0\n",
      "1e7897a1-3511-4126-a85f-ae59e32663f0\n"
     ]
    }
   ],
   "source": [
    "import uuid\n",
    "# later =new_func()\n",
    "for i in range(20):\n",
    "    print(uuid.uuid4())\n"
   ]
  },
  {
   "cell_type": "code",
   "execution_count": 2,
   "metadata": {},
   "outputs": [
    {
     "name": "stdout",
     "output_type": "stream",
     "text": [
      "['id', 'date']\n"
     ]
    }
   ],
   "source": [
    "tables=[(0, 'id', 'INTEGER', 1, None, 1), (1, 'date', 'VARCHAR', 1, None, 0)]\n",
    "important= list(x[1] for x in tables)\n",
    "\n",
    "print(important)\n",
    "\n",
    "\n",
    "\n",
    "\n",
    "\n"
   ]
  }
 ],
 "metadata": {
  "kernelspec": {
   "display_name": ".venv",
   "language": "python",
   "name": "python3"
  },
  "language_info": {
   "codemirror_mode": {
    "name": "ipython",
    "version": 3
   },
   "file_extension": ".py",
   "mimetype": "text/x-python",
   "name": "python",
   "nbconvert_exporter": "python",
   "pygments_lexer": "ipython3",
   "version": "3.11.1"
  },
  "orig_nbformat": 4
 },
 "nbformat": 4,
 "nbformat_minor": 2
}
