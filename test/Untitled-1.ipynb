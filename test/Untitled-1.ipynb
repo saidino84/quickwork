{
 "cells": [
  {
   "cell_type": "code",
   "execution_count": 3,
   "metadata": {},
   "outputs": [
    {
     "name": "stdout",
     "output_type": "stream",
     "text": [
      "['PRECO', 'NOME', 'BARCODEX', 'CODEX']\n"
     ]
    }
   ],
   "source": [
    "def new_func(string:str):\n",
    "    return string.upper()\n",
    "\n",
    "lista=[\n",
    "    \"preco\",\"nome\",\"barcodex\",\"codex\"\n",
    "]\n",
    "d=map(lambda x:new_func(x),lista)\n",
    "print(list(d))"
   ]
  },
  {
   "attachments": {},
   "cell_type": "markdown",
   "metadata": {},
   "source": [
    "LER CODIGO DE BARRAS E NOME DO PRODUTO PRA FACILITAR NA BUSCA"
   ]
  },
  {
   "cell_type": "code",
   "execution_count": 2,
   "metadata": {},
   "outputs": [
    {
     "name": "stdout",
     "output_type": "stream",
     "text": [
      "07278981-f7df-4e16-98a9-12ba7efa9845\n",
      "a941fc2a-e06b-4846-b568-855ca3e16249\n",
      "7bc14079-5836-49a4-8cd2-d9162e1c460c\n",
      "3f3eaa03-72e1-4edb-a19e-4315a7a7d193\n",
      "594bf681-3e23-4a86-84cb-b38ebcd1ac7c\n",
      "2b35bc24-059f-4f4c-8ea5-92aec16cf5e5\n",
      "b6d66587-710f-4930-98a3-defbedee0ac6\n",
      "5dd11c00-d66d-47fe-b489-1ae67b689eb5\n",
      "795fefd3-bef3-4c5f-a1d4-73a810e3d6ab\n",
      "d232f4dc-6a25-4b12-bb54-9147de0962bb\n",
      "20b09ff1-8ca2-472b-9599-b54ecd6397d6\n",
      "1136f6a6-7100-4268-b735-f44497661b01\n",
      "10eeabca-ded0-49f4-8365-3e0eb384a692\n",
      "e90907a3-778d-405e-85ef-a7cf63ae527c\n",
      "ae070126-0ce6-47ba-84ce-badb3980f375\n",
      "b54e057a-17dc-4c33-8272-893c94473458\n",
      "6dbf25e8-a91c-4f62-b5fe-76f28201651b\n",
      "edb8137a-8d79-4672-9908-a59314a5825e\n",
      "77220bee-a84e-4327-aad1-698a049f95c0\n",
      "1e7897a1-3511-4126-a85f-ae59e32663f0\n"
     ]
    }
   ],
   "source": [
    "import uuid\n",
    "# later =new_func()\n",
    "for i in range(20):\n",
    "    print(uuid.uuid4())"
   ]
  }
 ],
 "metadata": {
  "kernelspec": {
   "display_name": ".venv",
   "language": "python",
   "name": "python3"
  },
  "language_info": {
   "codemirror_mode": {
    "name": "ipython",
    "version": 3
   },
   "file_extension": ".py",
   "mimetype": "text/x-python",
   "name": "python",
   "nbconvert_exporter": "python",
   "pygments_lexer": "ipython3",
   "version": "3.11.1"
  },
  "orig_nbformat": 4
 },
 "nbformat": 4,
 "nbformat_minor": 2
}
